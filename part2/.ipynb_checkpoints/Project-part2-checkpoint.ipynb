{
 "cells": [
  {
   "cell_type": "code",
   "execution_count": 88,
   "metadata": {},
   "outputs": [],
   "source": [
    "import pandas as pd\n",
    "import numpy as np\n",
    "import matplotlib.pyplot as plt\n",
    "from math import floor\n",
    "from pyESN import ESN"
   ]
  },
  {
   "cell_type": "code",
   "execution_count": 89,
   "metadata": {},
   "outputs": [
    {
     "data": {
      "text/html": [
       "<div>\n",
       "<style scoped>\n",
       "    .dataframe tbody tr th:only-of-type {\n",
       "        vertical-align: middle;\n",
       "    }\n",
       "\n",
       "    .dataframe tbody tr th {\n",
       "        vertical-align: top;\n",
       "    }\n",
       "\n",
       "    .dataframe thead th {\n",
       "        text-align: right;\n",
       "    }\n",
       "</style>\n",
       "<table border=\"1\" class=\"dataframe\">\n",
       "  <thead>\n",
       "    <tr style=\"text-align: right;\">\n",
       "      <th></th>\n",
       "      <th>Open</th>\n",
       "      <th>High</th>\n",
       "      <th>Low</th>\n",
       "      <th>Close</th>\n",
       "      <th>Volume</th>\n",
       "    </tr>\n",
       "    <tr>\n",
       "      <th>Date</th>\n",
       "      <th></th>\n",
       "      <th></th>\n",
       "      <th></th>\n",
       "      <th></th>\n",
       "      <th></th>\n",
       "    </tr>\n",
       "  </thead>\n",
       "  <tbody>\n",
       "    <tr>\n",
       "      <th>1970-01-02</th>\n",
       "      <td>43.00</td>\n",
       "      <td>44.25</td>\n",
       "      <td>43.0</td>\n",
       "      <td>44.25</td>\n",
       "      <td>23256.0</td>\n",
       "    </tr>\n",
       "    <tr>\n",
       "      <th>1970-01-05</th>\n",
       "      <td>44.25</td>\n",
       "      <td>45.00</td>\n",
       "      <td>44.0</td>\n",
       "      <td>45.00</td>\n",
       "      <td>18193.0</td>\n",
       "    </tr>\n",
       "    <tr>\n",
       "      <th>1970-01-06</th>\n",
       "      <td>45.00</td>\n",
       "      <td>45.75</td>\n",
       "      <td>45.0</td>\n",
       "      <td>45.25</td>\n",
       "      <td>16059.0</td>\n",
       "    </tr>\n",
       "    <tr>\n",
       "      <th>1970-01-07</th>\n",
       "      <td>45.25</td>\n",
       "      <td>45.75</td>\n",
       "      <td>45.0</td>\n",
       "      <td>45.00</td>\n",
       "      <td>22459.0</td>\n",
       "    </tr>\n",
       "    <tr>\n",
       "      <th>1970-01-08</th>\n",
       "      <td>45.00</td>\n",
       "      <td>45.38</td>\n",
       "      <td>45.0</td>\n",
       "      <td>45.00</td>\n",
       "      <td>18456.0</td>\n",
       "    </tr>\n",
       "  </tbody>\n",
       "</table>\n",
       "</div>"
      ],
      "text/plain": [
       "             Open   High   Low  Close   Volume\n",
       "Date                                          \n",
       "1970-01-02  43.00  44.25  43.0  44.25  23256.0\n",
       "1970-01-05  44.25  45.00  44.0  45.00  18193.0\n",
       "1970-01-06  45.00  45.75  45.0  45.25  16059.0\n",
       "1970-01-07  45.25  45.75  45.0  45.00  22459.0\n",
       "1970-01-08  45.00  45.38  45.0  45.00  18456.0"
      ]
     },
     "execution_count": 89,
     "metadata": {},
     "output_type": "execute_result"
    }
   ],
   "source": [
    "# Read time series for McDonald's stock and drop non open/high/low/close/volume columns\n",
    "mcd = pd.read_csv('EOD-MCD.csv', index_col=0)\n",
    "mcd.drop(['Adj_Open','Adj_High','Adj_Low','Adj_Close','Adj_Volume','Dividend','Split'], axis=1, inplace=True, errors=\"skip\")\n",
    "mcd.sort_index(inplace=True)\n",
    "mcd.head()"
   ]
  },
  {
   "cell_type": "code",
   "execution_count": 90,
   "metadata": {},
   "outputs": [],
   "source": [
    "# Get Features and predicting variable, which is chosen to be Adj_Close since it determines the price of a stock at the end of a day\n",
    "X = mcd.drop(['Close'], axis=1).values\n",
    "Y = mcd['Close'].values\n",
    "\n",
    "# Split data into 75/25 train/test\n",
    "train_len = floor(X.shape[0]*0.75)\n",
    "train_x = X[:train_len]\n",
    "train_y = Y[:train_len]\n",
    "test_x = X[train_len:]\n",
    "test_y = Y[train_len:]\n",
    "\n",
    "assert(train_x.shape[0] + test_x.shape[0] == X.shape[0])\n",
    "\n",
    "# Reshape Y so that ESN work\n",
    "train_y = np.reshape(train_y,newshape=(train_y.shape[0],1))\n",
    "test_y = np.reshape(test_y,newshape=(test_y.shape[0],1))"
   ]
  },
  {
   "cell_type": "code",
   "execution_count": 91,
   "metadata": {},
   "outputs": [],
   "source": [
    "def nrmse(y, yhat):\n",
    "    \"\"\"\n",
    "        Function to output Normalized Mean Square Error of two numpy arrays\n",
    "    \"\"\"\n",
    "    y = np.reshape(y, -1)\n",
    "    yhat = np.reshape(yhat, -1)\n",
    "    error = np.sqrt(np.mean((y-yhat)**2))/(np.max(y) - np.min(y))\n",
    "    return error"
   ]
  },
  {
   "cell_type": "markdown",
   "metadata": {},
   "source": [
    "## Task 1: Impact of input and RNN weight scalings on performance of ESN\n",
    "\n",
    "In order to solve Task 1, i.e. check how performance is affected by scaling input weights $W_{ax}$ and RNN weights $W_{aa}$, we need to generate various scalings for each of four inputs and run train/test for this specific model."
   ]
  },
  {
   "cell_type": "code",
   "execution_count": 92,
   "metadata": {},
   "outputs": [],
   "source": [
    "def cartprod(*arrays):\n",
    "    N = len(arrays)\n",
    "    return np.transpose(np.meshgrid(*arrays, indexing='ij'), np.roll(np.arange(N + 1), -1)).reshape(-1, N)"
   ]
  },
  {
   "cell_type": "code",
   "execution_count": 93,
   "metadata": {},
   "outputs": [
    {
     "data": {
      "text/plain": [
       "(6561, 4)"
      ]
     },
     "execution_count": 93,
     "metadata": {},
     "output_type": "execute_result"
    }
   ],
   "source": [
    "# Generate scalings for each of four inputs\n",
    "scalings = []\n",
    "for i in range(4):\n",
    "    scalings.append(np.arange(0.5, 5, step = 0.5))\n",
    "\n",
    "input_scalings = cartprod(*scalings)\n",
    "input_scalings.shape"
   ]
  },
  {
   "cell_type": "code",
   "execution_count": null,
   "metadata": {},
   "outputs": [],
   "source": [
    "# For each combination of input scalings run training and testing on McDonald's stock data and record the results.\n",
    "input_scaling_nrmse = []\n",
    "input_scaling_labels = []\n",
    "for i in range(input_scalings.shape[0]):\n",
    "    esn = ESN(n_inputs = 4,\n",
    "          n_outputs = 1,\n",
    "          spectral_radius = 0.25,\n",
    "          sparsity = 0.95,\n",
    "          input_scaling = input_scalings[i])\n",
    "    \n",
    "    esn.fit(train_x, train_y)\n",
    "    predictions = esn.predict(test_x)\n",
    "    error = nrmse(test_y, predictions)\n",
    "    label = f\"{input_scalings[i][0]}-{input_scalings[i][1]}-{input_scalings[i][2]}-{input_scalings[i][3]}\"\n",
    "    print(f\"Iteration: {i}, label: {label}, NRMSE: {error}\")\n",
    "    input_scaling_nrmse.append(error)\n",
    "    input_scaling_labels.append(label)\n",
    "\n",
    "df = pd.DataFrame({'label': input_scaling_labels, 'nrmse': input_scaling_nrmse})\n",
    "df.to_csv('input_scaling_results.csv',index=False)"
   ]
  },
  {
   "cell_type": "markdown",
   "metadata": {},
   "source": [
    "After running the training and testing for each input scaling, we can compare it with performance of ESN without providing input scalings and plot how error rate is changing for specific scaling. The result is saved in 'input_sacling_results.csv' file, which contains 2 columns: 'label' and 'nrmse', where label is 4 numbers that are used in scaling 4 inputs, separated by dash."
   ]
  },
  {
   "cell_type": "code",
   "execution_count": 95,
   "metadata": {},
   "outputs": [
    {
     "data": {
      "text/html": [
       "<div>\n",
       "<style scoped>\n",
       "    .dataframe tbody tr th:only-of-type {\n",
       "        vertical-align: middle;\n",
       "    }\n",
       "\n",
       "    .dataframe tbody tr th {\n",
       "        vertical-align: top;\n",
       "    }\n",
       "\n",
       "    .dataframe thead th {\n",
       "        text-align: right;\n",
       "    }\n",
       "</style>\n",
       "<table border=\"1\" class=\"dataframe\">\n",
       "  <thead>\n",
       "    <tr style=\"text-align: right;\">\n",
       "      <th></th>\n",
       "      <th>label</th>\n",
       "      <th>nrmse</th>\n",
       "    </tr>\n",
       "  </thead>\n",
       "  <tbody>\n",
       "    <tr>\n",
       "      <th>0</th>\n",
       "      <td>0.5-0.5-0.5-0.5</td>\n",
       "      <td>0.002889</td>\n",
       "    </tr>\n",
       "    <tr>\n",
       "      <th>1</th>\n",
       "      <td>0.5-0.5-0.5-1.0</td>\n",
       "      <td>0.002888</td>\n",
       "    </tr>\n",
       "    <tr>\n",
       "      <th>2</th>\n",
       "      <td>0.5-0.5-0.5-1.5</td>\n",
       "      <td>0.002895</td>\n",
       "    </tr>\n",
       "    <tr>\n",
       "      <th>3</th>\n",
       "      <td>0.5-0.5-0.5-2.0</td>\n",
       "      <td>0.002893</td>\n",
       "    </tr>\n",
       "    <tr>\n",
       "      <th>4</th>\n",
       "      <td>0.5-0.5-0.5-2.5</td>\n",
       "      <td>0.002891</td>\n",
       "    </tr>\n",
       "  </tbody>\n",
       "</table>\n",
       "</div>"
      ],
      "text/plain": [
       "             label     nrmse\n",
       "0  0.5-0.5-0.5-0.5  0.002889\n",
       "1  0.5-0.5-0.5-1.0  0.002888\n",
       "2  0.5-0.5-0.5-1.5  0.002895\n",
       "3  0.5-0.5-0.5-2.0  0.002893\n",
       "4  0.5-0.5-0.5-2.5  0.002891"
      ]
     },
     "execution_count": 95,
     "metadata": {},
     "output_type": "execute_result"
    }
   ],
   "source": [
    "scalings_results = pd.read_csv('input_scaling_results.csv')\n",
    "scalings_results.head()"
   ]
  },
  {
   "cell_type": "code",
   "execution_count": 96,
   "metadata": {},
   "outputs": [
    {
     "name": "stdout",
     "output_type": "stream",
     "text": [
      "No scaling NRMSE is: 0.0028885047172857036\n"
     ]
    }
   ],
   "source": [
    "# Let's train/test ESN without providing any input scaling so that we can compare with the rest.\n",
    "esn = ESN(n_inputs = 4,\n",
    "          n_outputs = 1,\n",
    "          spectral_radius = 0.25,\n",
    "          sparsity = 0.95)\n",
    "esn.fit(train_x, train_y)\n",
    "predictions = esn.predict(test_x)\n",
    "no_scaling_error = nrmse(test_y, predictions)\n",
    "print(f\"No scaling NRMSE is: {no_scaling_error}\")"
   ]
  },
  {
   "cell_type": "code",
   "execution_count": 97,
   "metadata": {},
   "outputs": [
    {
     "data": {
      "image/png": "[encoded data removed]",
      "text/plain": [
       "<Figure size 432x288 with 1 Axes>"
      ]
     },
     "metadata": {},
     "output_type": "display_data"
    }
   ],
   "source": [
    "scaling_nrmses = scalings_results['nrmse'].values\n",
    "scaling_labels = scalings_results['label'].values\n",
    "\n",
    "fig, ax = plt.subplots()\n",
    "ax.plot(scaling_nrmses, 'o--')\n",
    "ax.axhline(no_scaling_error, linewidth=4, color='r')\n",
    "plt.show()"
   ]
  },
  {
   "cell_type": "markdown",
   "metadata": {},
   "source": [
    "Above given plot shows the NRMSE for various input scalings, while red line shows the error of ESN without scaling any input. Since the graph is not showing very well how error was improved due to big amount of points, we should plot only those errors that are below the red line."
   ]
  },
  {
   "cell_type": "code",
   "execution_count": 103,
   "metadata": {},
   "outputs": [
    {
     "data": {
      "image/png": "[encoded data removed]",
      "text/plain": [
       "<Figure size 432x288 with 1 Axes>"
      ]
     },
     "metadata": {},
     "output_type": "display_data"
    },
    {
     "name": "stdout",
     "output_type": "stream",
     "text": [
      "No scaling error is: 0.0028885047172857036 and lowest with scaling error is: 0.002866340332593146\n",
      "\n",
      "The error is improved by: 0.7732642366479192%\n",
      "\n",
      "The best scaling for 4 inputs is: 4.0-4.5-3.0-0.5\n",
      "\n"
     ]
    }
   ],
   "source": [
    "better_errors = scaling_nrmses[np.where(scaling_nrmses < no_scaling_error)[0]]\n",
    "\n",
    "fig, ax = plt.subplots()\n",
    "ax.plot(better_errors, 'o--')\n",
    "ax.axhline(no_scaling_error, linewidth=4, color='r')\n",
    "plt.show()\n",
    "percentage_improvement = 100*(no_scaling_error/np.min(scaling_nrmses) - 1)\n",
    "best_scaling = scaling_labels[np.argmin(scaling_nrmses)]\n",
    "\n",
    "print(f\"No scaling error is: {no_scaling_error} and lowest with scaling error is: {np.min(scaling_nrmses)}\\n\")\n",
    "print(f\"The error is improved by: {percentage_improvement}%\\n\")\n",
    "print(f\"The best scaling for 4 inputs is: {best_scaling}\\n\")"
   ]
  },
  {
   "cell_type": "markdown",
   "metadata": {},
   "source": [
    "As we can see the input scalings indeed improve the test error, aka performance compared to no scaling of inputs. However the improvement in error rate is just 0.77%, which is not a lot. The error itself is quite low, so improving farther is obviously hard."
   ]
  },
  {
   "cell_type": "markdown",
   "metadata": {},
   "source": [
    "## Task 2: Impact of Teacher Signal scaling and shifting on performance of ESN\n",
    "\n",
    "Since we saw what was the impact on performance from scaling of inputs, we can proceed and check the impact on scaling and shifting of teacher signal. First we need to generate 2 arrays and perform cartesian product to form all possible combinations of scaling and shifting teacher signal parameters."
   ]
  },
  {
   "cell_type": "code",
   "execution_count": 108,
   "metadata": {},
   "outputs": [
    {
     "data": {
      "text/plain": [
       "array([[ 0.1, -5. ],\n",
       "       [ 0.1, -4.9],\n",
       "       [ 0.1, -4.8],\n",
       "       ...,\n",
       "       [ 4.9,  4.7],\n",
       "       [ 4.9,  4.8],\n",
       "       [ 4.9,  4.9]])"
      ]
     },
     "execution_count": 108,
     "metadata": {},
     "output_type": "execute_result"
    }
   ],
   "source": [
    "teach_scaling = np.arange(0.1, 5, step=0.1)\n",
    "teach_shift = np.arange(-5, 5, step=0.1)\n",
    "\n",
    "teacher_scalings = cartprod(teach_scaling, teach_shift)"
   ]
  },
  {
   "cell_type": "code",
   "execution_count": null,
   "metadata": {},
   "outputs": [],
   "source": [
    "# For each combination of teaching scalings run training and testing on McDonald's stock data and record the results.\n",
    "teacher_scaling_nrmse = []\n",
    "teacher_scaling_labels = []\n",
    "for i in range(teacher_scalings.shape[0]):\n",
    "    esn = ESN(n_inputs = 4,\n",
    "          n_outputs = 1,\n",
    "          spectral_radius = 0.25,\n",
    "          sparsity = 0.95,\n",
    "          teacher_scaling = teacher_scalings[i][0],\n",
    "          teacher_shift = teacher_scalings[i][1])\n",
    "    \n",
    "    esn.fit(train_x, train_y)\n",
    "    predictions = esn.predict(test_x)\n",
    "    error = nrmse(test_y, predictions)\n",
    "    label = f\"{teacher_scalings[i][0]}-{teacher_scalings[i][1]}\"\n",
    "    print(f\"Iteration: {i}, label: {label}, NRMSE: {error}\")\n",
    "    teacher_scaling_nrmse.append(error)\n",
    "    teacher_scaling_labels.append(label)\n",
    "\n",
    "df = pd.DataFrame({'label': teacher_scaling_labels, 'nrmse': teacher_scaling_nrmse})\n",
    "df.to_csv('teacher_scaling_results.csv',index=False)"
   ]
  },
  {
   "cell_type": "code",
   "execution_count": null,
   "metadata": {},
   "outputs": [],
   "source": []
  }
 ],
 "metadata": {
  "kernelspec": {
   "display_name": "Python 3",
   "language": "python",
   "name": "python3"
  },
  "language_info": {
   "codemirror_mode": {
    "name": "ipython",
    "version": 3
   },
   "file_extension": ".py",
   "mimetype": "text/x-python",
   "name": "python",
   "nbconvert_exporter": "python",
   "pygments_lexer": "ipython3",
   "version": "3.6.5"
  }
 },
 "nbformat": 4,
 "nbformat_minor": 2
}
