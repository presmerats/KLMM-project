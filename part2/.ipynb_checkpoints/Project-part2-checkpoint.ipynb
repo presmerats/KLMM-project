{
 "cells": [
  {
   "cell_type": "code",
   "execution_count": 85,
   "metadata": {},
   "outputs": [],
   "source": [
    "import pandas as pd\n",
    "import numpy as np\n",
    "from math import floor\n",
    "from pyESN import ESN"
   ]
  },
  {
   "cell_type": "code",
   "execution_count": 86,
   "metadata": {},
   "outputs": [
    {
     "data": {
      "text/html": [
       "<div>\n",
       "<style scoped>\n",
       "    .dataframe tbody tr th:only-of-type {\n",
       "        vertical-align: middle;\n",
       "    }\n",
       "\n",
       "    .dataframe tbody tr th {\n",
       "        vertical-align: top;\n",
       "    }\n",
       "\n",
       "    .dataframe thead th {\n",
       "        text-align: right;\n",
       "    }\n",
       "</style>\n",
       "<table border=\"1\" class=\"dataframe\">\n",
       "  <thead>\n",
       "    <tr style=\"text-align: right;\">\n",
       "      <th></th>\n",
       "      <th>Adj_Open</th>\n",
       "      <th>Adj_High</th>\n",
       "      <th>Adj_Low</th>\n",
       "      <th>Adj_Close</th>\n",
       "      <th>Adj_Volume</th>\n",
       "    </tr>\n",
       "    <tr>\n",
       "      <th>Date</th>\n",
       "      <th></th>\n",
       "      <th></th>\n",
       "      <th></th>\n",
       "      <th></th>\n",
       "      <th></th>\n",
       "    </tr>\n",
       "  </thead>\n",
       "  <tbody>\n",
       "    <tr>\n",
       "      <th>2019-01-04</th>\n",
       "      <td>176.03</td>\n",
       "      <td>179.20</td>\n",
       "      <td>175.6901</td>\n",
       "      <td>178.28</td>\n",
       "      <td>3193428.0</td>\n",
       "    </tr>\n",
       "    <tr>\n",
       "      <th>2019-01-03</th>\n",
       "      <td>175.45</td>\n",
       "      <td>176.45</td>\n",
       "      <td>174.4100</td>\n",
       "      <td>174.90</td>\n",
       "      <td>3714419.0</td>\n",
       "    </tr>\n",
       "    <tr>\n",
       "      <th>2019-01-02</th>\n",
       "      <td>175.41</td>\n",
       "      <td>176.30</td>\n",
       "      <td>174.1680</td>\n",
       "      <td>176.06</td>\n",
       "      <td>2570832.0</td>\n",
       "    </tr>\n",
       "    <tr>\n",
       "      <th>2018-12-31</th>\n",
       "      <td>175.96</td>\n",
       "      <td>177.80</td>\n",
       "      <td>175.6000</td>\n",
       "      <td>177.57</td>\n",
       "      <td>2482576.0</td>\n",
       "    </tr>\n",
       "    <tr>\n",
       "      <th>2018-12-28</th>\n",
       "      <td>176.30</td>\n",
       "      <td>177.50</td>\n",
       "      <td>174.8500</td>\n",
       "      <td>175.56</td>\n",
       "      <td>2890778.0</td>\n",
       "    </tr>\n",
       "  </tbody>\n",
       "</table>\n",
       "</div>"
      ],
      "text/plain": [
       "            Adj_Open  Adj_High   Adj_Low  Adj_Close  Adj_Volume\n",
       "Date                                                           \n",
       "2019-01-04    176.03    179.20  175.6901     178.28   3193428.0\n",
       "2019-01-03    175.45    176.45  174.4100     174.90   3714419.0\n",
       "2019-01-02    175.41    176.30  174.1680     176.06   2570832.0\n",
       "2018-12-31    175.96    177.80  175.6000     177.57   2482576.0\n",
       "2018-12-28    176.30    177.50  174.8500     175.56   2890778.0"
      ]
     },
     "execution_count": 86,
     "metadata": {},
     "output_type": "execute_result"
    }
   ],
   "source": [
    "# Read time series for McDonald's stock\n",
    "mcd = pd.read_csv('EOD-MCD.csv', index_col=0)\n",
    "mcd.drop(['Open','High','Low','Close','Volume','Dividend','Split'], axis=1, inplace=True, errors=\"skip\")\n",
    "mcd.head()"
   ]
  },
  {
   "cell_type": "code",
   "execution_count": 88,
   "metadata": {},
   "outputs": [],
   "source": [
    "# Get Features and predicting variable, which is chosen to be Adj_Close since it determines the price of a stock at the end of a day\n",
    "X = mcd.drop(['Adj_Close'], axis=1).values\n",
    "Y = mcd['Adj_Close'].values\n",
    "\n",
    "# Split data into 75/25 train/test\n",
    "train_len = floor(X.shape[0]*0.75)\n",
    "train_x = X[:train_len]\n",
    "train_y = Y[:train_len]\n",
    "test_x = X[train_len:]\n",
    "test_y = Y[train_len:]\n",
    "assert(train_x.shape[0] + test_y.shape[0] == X.shape[0])\n",
    "\n",
    "# Reshape Y so that ESN work\n",
    "train_y = np.reshape(train_y,newshape=(train_y.shape[0],1))\n",
    "test_y = np.reshape(test_y,newshape=(test_y.shape[0],1))"
   ]
  },
  {
   "cell_type": "code",
   "execution_count": 101,
   "metadata": {},
   "outputs": [],
   "source": [
    "def nrmse(y, yhat):\n",
    "    y = np.reshape(y, -1)\n",
    "    yhat = np.reshape(yhat, -1)\n",
    "    error = np.sqrt(np.mean((y-yhat)**2))/(np.max(y) - np.min(y))\n",
    "    return error"
   ]
  },
  {
   "cell_type": "code",
   "execution_count": 91,
   "metadata": {},
   "outputs": [],
   "source": [
    "rng = np.random.RandomState(42)\n",
    "esn = ESN(n_inputs = 4,\n",
    "          n_outputs = 1,\n",
    "          n_reservoir = 200,\n",
    "          spectral_radius = 0.25,\n",
    "          sparsity = 0.95,\n",
    "          noise = 0.001,\n",
    "          input_shift = [0,0,0,0]\n",
    "          input_scaling = [0.01, 3,0.01,0.01], #change these scalings and compare the performance (NRMSE) (task1)\n",
    "          teacher_scaling = 1.12, #change this and compare performance (NRMSE) (task2)\n",
    "          teacher_shift = -0.7, #(task2)\n",
    "          random_state = rng,\n",
    "          silent = False)"
   ]
  },
  {
   "cell_type": "code",
   "execution_count": 92,
   "metadata": {},
   "outputs": [
    {
     "name": "stdout",
     "output_type": "stream",
     "text": [
      "harvesting states...\n",
      "fitting...\n",
      "training error:\n",
      "0.2287728616787872\n"
     ]
    },
    {
     "data": {
      "text/plain": [
       "array([[178.88607882],\n",
       "       [175.35512072],\n",
       "       [175.24867329],\n",
       "       ...,\n",
       "       [  0.94309557],\n",
       "       [  0.8997733 ],\n",
       "       [  0.90533634]])"
      ]
     },
     "execution_count": 92,
     "metadata": {},
     "output_type": "execute_result"
    }
   ],
   "source": [
    "esn.fit(inputs=train_x, outputs=train_y)"
   ]
  },
  {
   "cell_type": "code",
   "execution_count": 96,
   "metadata": {},
   "outputs": [],
   "source": [
    "predictions = esn.predict(inputs=test_x)"
   ]
  },
  {
   "cell_type": "code",
   "execution_count": 102,
   "metadata": {},
   "outputs": [
    {
     "data": {
      "text/plain": [
       "0.03704797554709085"
      ]
     },
     "execution_count": 102,
     "metadata": {},
     "output_type": "execute_result"
    }
   ],
   "source": [
    "nrmse(y=test_y, yhat=predictions)"
   ]
  },
  {
   "cell_type": "code",
   "execution_count": null,
   "metadata": {},
   "outputs": [],
   "source": []
  }
 ],
 "metadata": {
  "kernelspec": {
   "display_name": "Python 3",
   "language": "python",
   "name": "python3"
  },
  "language_info": {
   "codemirror_mode": {
    "name": "ipython",
    "version": 3
   },
   "file_extension": ".py",
   "mimetype": "text/x-python",
   "name": "python",
   "nbconvert_exporter": "python",
   "pygments_lexer": "ipython3",
   "version": "3.6.5"
  }
 },
 "nbformat": 4,
 "nbformat_minor": 2
}
