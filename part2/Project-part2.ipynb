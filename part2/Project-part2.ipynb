{
 "cells": [
  {
   "cell_type": "code",
   "execution_count": 26,
   "metadata": {
    "colab": {},
    "colab_type": "code",
    "id": "E1htvgrHWT16"
   },
   "outputs": [],
   "source": [
    "import pandas as pd\n",
    "import numpy as np\n",
    "import matplotlib.pyplot as plt\n",
    "from math import floor\n",
    "from scipy.stats.stats import pearsonr"
   ]
  },
  {
   "cell_type": "code",
   "execution_count": 27,
   "metadata": {
    "colab": {},
    "colab_type": "code",
    "id": "eEnntq4TFnMc"
   },
   "outputs": [],
   "source": [
    "project_folder = \".\""
   ]
  },
  {
   "cell_type": "code",
   "execution_count": 28,
   "metadata": {
    "colab": {
     "base_uri": "https://localhost:8080/",
     "height": 235
    },
    "colab_type": "code",
    "id": "OLDEZ2LeWT19",
    "outputId": "a45a25af-20b7-4c46-a47c-517d680e8f33"
   },
   "outputs": [
    {
     "data": {
      "text/html": [
       "<div>\n",
       "<style scoped>\n",
       "    .dataframe tbody tr th:only-of-type {\n",
       "        vertical-align: middle;\n",
       "    }\n",
       "\n",
       "    .dataframe tbody tr th {\n",
       "        vertical-align: top;\n",
       "    }\n",
       "\n",
       "    .dataframe thead th {\n",
       "        text-align: right;\n",
       "    }\n",
       "</style>\n",
       "<table border=\"1\" class=\"dataframe\">\n",
       "  <thead>\n",
       "    <tr style=\"text-align: right;\">\n",
       "      <th></th>\n",
       "      <th>Open</th>\n",
       "      <th>High</th>\n",
       "      <th>Low</th>\n",
       "      <th>Close</th>\n",
       "      <th>Volume</th>\n",
       "    </tr>\n",
       "    <tr>\n",
       "      <th>Date</th>\n",
       "      <th></th>\n",
       "      <th></th>\n",
       "      <th></th>\n",
       "      <th></th>\n",
       "      <th></th>\n",
       "    </tr>\n",
       "  </thead>\n",
       "  <tbody>\n",
       "    <tr>\n",
       "      <th>1970-01-02</th>\n",
       "      <td>43.00</td>\n",
       "      <td>44.25</td>\n",
       "      <td>43.0</td>\n",
       "      <td>44.25</td>\n",
       "      <td>23256.0</td>\n",
       "    </tr>\n",
       "    <tr>\n",
       "      <th>1970-01-05</th>\n",
       "      <td>44.25</td>\n",
       "      <td>45.00</td>\n",
       "      <td>44.0</td>\n",
       "      <td>45.00</td>\n",
       "      <td>18193.0</td>\n",
       "    </tr>\n",
       "    <tr>\n",
       "      <th>1970-01-06</th>\n",
       "      <td>45.00</td>\n",
       "      <td>45.75</td>\n",
       "      <td>45.0</td>\n",
       "      <td>45.25</td>\n",
       "      <td>16059.0</td>\n",
       "    </tr>\n",
       "    <tr>\n",
       "      <th>1970-01-07</th>\n",
       "      <td>45.25</td>\n",
       "      <td>45.75</td>\n",
       "      <td>45.0</td>\n",
       "      <td>45.00</td>\n",
       "      <td>22459.0</td>\n",
       "    </tr>\n",
       "    <tr>\n",
       "      <th>1970-01-08</th>\n",
       "      <td>45.00</td>\n",
       "      <td>45.38</td>\n",
       "      <td>45.0</td>\n",
       "      <td>45.00</td>\n",
       "      <td>18456.0</td>\n",
       "    </tr>\n",
       "  </tbody>\n",
       "</table>\n",
       "</div>"
      ],
      "text/plain": [
       "             Open   High   Low  Close   Volume\n",
       "Date                                          \n",
       "1970-01-02  43.00  44.25  43.0  44.25  23256.0\n",
       "1970-01-05  44.25  45.00  44.0  45.00  18193.0\n",
       "1970-01-06  45.00  45.75  45.0  45.25  16059.0\n",
       "1970-01-07  45.25  45.75  45.0  45.00  22459.0\n",
       "1970-01-08  45.00  45.38  45.0  45.00  18456.0"
      ]
     },
     "execution_count": 28,
     "metadata": {},
     "output_type": "execute_result"
    }
   ],
   "source": [
    "# Read time series for McDonald's stock and drop non open/high/low/close/volume columns\n",
    "mcd = pd.read_csv(f'{project_folder}/EOD-MCD.csv', index_col=0)\n",
    "mcd.drop(['Adj_Open','Adj_High','Adj_Low','Adj_Close','Adj_Volume','Dividend','Split'], axis=1, inplace=True, errors=\"skip\")\n",
    "mcd.sort_index(inplace=True)\n",
    "mcd.head()"
   ]
  },
  {
   "cell_type": "code",
   "execution_count": 29,
   "metadata": {
    "colab": {},
    "colab_type": "code",
    "id": "5OS0UG7-YCuE"
   },
   "outputs": [],
   "source": [
    "import os, sys, inspect\n",
    "sys.path.append(project_folder)\n",
    "from pyESN import ESN"
   ]
  },
  {
   "cell_type": "code",
   "execution_count": 30,
   "metadata": {
    "colab": {},
    "colab_type": "code",
    "id": "IfojiybYWT2D"
   },
   "outputs": [],
   "source": [
    "# Get Features and predicting variable, which is chosen to be Adj_Close since it determines the price of a stock at the end of a day\n",
    "X = mcd.drop(['Close'], axis=1).values\n",
    "Y = mcd['Close'].values\n",
    "\n",
    "# Split data into 75/25 train/test\n",
    "train_len = floor(X.shape[0]*0.75)\n",
    "train_x = X[:train_len]\n",
    "train_y = Y[:train_len]\n",
    "test_x = X[train_len:]\n",
    "test_y = Y[train_len:]\n",
    "\n",
    "assert(train_x.shape[0] + test_x.shape[0] == X.shape[0])\n",
    "\n",
    "# Reshape Y so that ESN work\n",
    "train_y = np.reshape(train_y,newshape=(train_y.shape[0],1))\n",
    "test_y = np.reshape(test_y,newshape=(test_y.shape[0],1))"
   ]
  },
  {
   "cell_type": "code",
   "execution_count": 31,
   "metadata": {
    "colab": {},
    "colab_type": "code",
    "id": "T2ZRcAyzWT2F"
   },
   "outputs": [],
   "source": [
    "def nrmse(y, yhat):\n",
    "    \"\"\"\n",
    "        Function to output Normalized Mean Square Error of two numpy arrays\n",
    "    \"\"\"\n",
    "    y = np.reshape(y, -1)\n",
    "    yhat = np.reshape(yhat, -1)\n",
    "    error = np.sqrt(np.mean((y-yhat)**2))/(np.max(y) - np.min(y))\n",
    "    return error"
   ]
  },
  {
   "cell_type": "markdown",
   "metadata": {
    "colab_type": "text",
    "id": "1QDC0po3WT2H"
   },
   "source": [
    "## Task 1: Impact of input and RNN weight scalings on performance of ESN\n",
    "\n",
    "In order to solve Task 1, i.e. check how performance is affected by scaling input weights $W_{ax}$ and RNN weights $W_{aa}$, we need to generate various scalings for each of four inputs and run train/test for this specific model."
   ]
  },
  {
   "cell_type": "code",
   "execution_count": 32,
   "metadata": {
    "colab": {},
    "colab_type": "code",
    "id": "Vag_818xWT2I"
   },
   "outputs": [],
   "source": [
    "def cartprod(*arrays):\n",
    "    N = len(arrays)\n",
    "    return np.transpose(np.meshgrid(*arrays, indexing='ij'), np.roll(np.arange(N + 1), -1)).reshape(-1, N)"
   ]
  },
  {
   "cell_type": "code",
   "execution_count": 33,
   "metadata": {
    "colab": {},
    "colab_type": "code",
    "id": "KKtoVAerZJP2"
   },
   "outputs": [
    {
     "data": {
      "text/plain": [
       "(6561, 4)"
      ]
     },
     "execution_count": 33,
     "metadata": {},
     "output_type": "execute_result"
    }
   ],
   "source": [
    "# Generate scalings for each of four inputs\n",
    "scalings = []\n",
    "for i in range(4):\n",
    "    scalings.append(np.arange(0.5, 5, step = 0.5))\n",
    "\n",
    "input_scalings = cartprod(*scalings)\n",
    "input_scalings.shape"
   ]
  },
  {
   "cell_type": "code",
   "execution_count": null,
   "metadata": {
    "colab": {},
    "colab_type": "code",
    "id": "Bps0GtXCWT2N"
   },
   "outputs": [],
   "source": [
    "# For each combination of input scalings run training and testing on McDonald's stock data and record the results.\n",
    "input_scaling_nrmse = []\n",
    "input_scaling_labels = []\n",
    "for i in range(input_scalings.shape[0]):\n",
    "    esn = ESN(n_inputs = 4,\n",
    "          n_outputs = 1,\n",
    "          spectral_radius = 0.25,\n",
    "          sparsity = 0.95,\n",
    "          input_scaling = input_scalings[i])\n",
    "    \n",
    "    esn.fit(train_x, train_y)\n",
    "    predictions = esn.predict(test_x)\n",
    "    error = nrmse(test_y, predictions)\n",
    "    label = f\"{input_scalings[i][0]}-{input_scalings[i][1]}-{input_scalings[i][2]}-{input_scalings[i][3]}\"\n",
    "    print(f\"Iteration: {i}, label: {label}, NRMSE: {error}\")\n",
    "    input_scaling_nrmse.append(error)\n",
    "    input_scaling_labels.append(label)\n",
    "    \n",
    "    if i%100 == 0:\n",
    "        df = pd.DataFrame({'label': input_scaling_labels, 'nrmse': input_scaling_nrmse})\n",
    "        df.to_csv(f'{project_folder}/input_scaling_results.csv',index=False)\n",
    "\n",
    "df = pd.DataFrame({'label': input_scaling_labels, 'nrmse': input_scaling_nrmse})\n",
    "df.to_csv(f'{project_folder}/input_scaling_results.csv',index=False)"
   ]
  },
  {
   "cell_type": "markdown",
   "metadata": {
    "colab_type": "text",
    "id": "bh9PSQ5lixwJ"
   },
   "source": [
    "After running the training and testing for each input scaling, we can compare it with performance of ESN without providing input scalings and plot how error rate is changing for specific scaling. The result is saved in 'input_sacling_results.csv' file, which contains 2 columns: 'label' and 'nrmse', where label is 4 numbers that are used in scaling 4 inputs, separated by dash."
   ]
  },
  {
   "cell_type": "code",
   "execution_count": 34,
   "metadata": {
    "colab": {},
    "colab_type": "code",
    "id": "aA51RIPji365"
   },
   "outputs": [
    {
     "data": {
      "text/html": [
       "<div>\n",
       "<style scoped>\n",
       "    .dataframe tbody tr th:only-of-type {\n",
       "        vertical-align: middle;\n",
       "    }\n",
       "\n",
       "    .dataframe tbody tr th {\n",
       "        vertical-align: top;\n",
       "    }\n",
       "\n",
       "    .dataframe thead th {\n",
       "        text-align: right;\n",
       "    }\n",
       "</style>\n",
       "<table border=\"1\" class=\"dataframe\">\n",
       "  <thead>\n",
       "    <tr style=\"text-align: right;\">\n",
       "      <th></th>\n",
       "      <th>label</th>\n",
       "      <th>nrmse</th>\n",
       "    </tr>\n",
       "  </thead>\n",
       "  <tbody>\n",
       "    <tr>\n",
       "      <th>0</th>\n",
       "      <td>0.5-0.5-0.5-0.5</td>\n",
       "      <td>0.002889</td>\n",
       "    </tr>\n",
       "    <tr>\n",
       "      <th>1</th>\n",
       "      <td>0.5-0.5-0.5-1.0</td>\n",
       "      <td>0.002888</td>\n",
       "    </tr>\n",
       "    <tr>\n",
       "      <th>2</th>\n",
       "      <td>0.5-0.5-0.5-1.5</td>\n",
       "      <td>0.002895</td>\n",
       "    </tr>\n",
       "    <tr>\n",
       "      <th>3</th>\n",
       "      <td>0.5-0.5-0.5-2.0</td>\n",
       "      <td>0.002893</td>\n",
       "    </tr>\n",
       "    <tr>\n",
       "      <th>4</th>\n",
       "      <td>0.5-0.5-0.5-2.5</td>\n",
       "      <td>0.002891</td>\n",
       "    </tr>\n",
       "  </tbody>\n",
       "</table>\n",
       "</div>"
      ],
      "text/plain": [
       "             label     nrmse\n",
       "0  0.5-0.5-0.5-0.5  0.002889\n",
       "1  0.5-0.5-0.5-1.0  0.002888\n",
       "2  0.5-0.5-0.5-1.5  0.002895\n",
       "3  0.5-0.5-0.5-2.0  0.002893\n",
       "4  0.5-0.5-0.5-2.5  0.002891"
      ]
     },
     "execution_count": 34,
     "metadata": {},
     "output_type": "execute_result"
    }
   ],
   "source": [
    "scalings_results = pd.read_csv(f'{project_folder}/input_scaling_results.csv')\n",
    "scalings_results.head()"
   ]
  },
  {
   "cell_type": "code",
   "execution_count": 35,
   "metadata": {
    "colab": {},
    "colab_type": "code",
    "id": "5kAX7VDOjE3r"
   },
   "outputs": [
    {
     "name": "stdout",
     "output_type": "stream",
     "text": [
      "No scaling NRMSE is: 0.002891794927350494\n"
     ]
    }
   ],
   "source": [
    "# Let's train/test ESN without providing any input scaling so that we can compare with the rest.\n",
    "esn = ESN(n_inputs = 4,\n",
    "          n_outputs = 1,\n",
    "          spectral_radius = 0.25,\n",
    "          sparsity = 0.95)\n",
    "esn.fit(train_x, train_y)\n",
    "predictions = esn.predict(test_x)\n",
    "no_scaling_error = nrmse(test_y, predictions)\n",
    "print(f\"No scaling NRMSE is: {no_scaling_error}\")"
   ]
  },
  {
   "cell_type": "code",
   "execution_count": 36,
   "metadata": {
    "colab": {},
    "colab_type": "code",
    "id": "P2D6drJ-jFa5"
   },
   "outputs": [
    {
     "data": {
      "image/png": "[encoded data removed]",
      "text/plain": [
       "<Figure size 432x288 with 1 Axes>"
      ]
     },
     "metadata": {},
     "output_type": "display_data"
    }
   ],
   "source": [
    "scaling_nrmses = scalings_results['nrmse'].values\n",
    "scaling_labels = scalings_results['label'].values\n",
    "\n",
    "fig, ax = plt.subplots()\n",
    "ax.plot(scaling_nrmses, 'o--')\n",
    "ax.set_title(\"NRMSEs for various combinations of input scalings VS no input scaling NRMSE\\n\")\n",
    "ax.set_ylabel(\"NRMSE\")\n",
    "ax.axhline(no_scaling_error, linewidth=4, color='r')\n",
    "plt.show()"
   ]
  },
  {
   "cell_type": "markdown",
   "metadata": {
    "colab_type": "text",
    "id": "UVxl3vPzjJU7"
   },
   "source": [
    "Above given plot shows the NRMSE for various input scalings, while red line shows the error of ESN without scaling any input. Since the graph is not showing very well how error was improved due to big amount of points, we should plot only those errors that are below the red line."
   ]
  },
  {
   "cell_type": "code",
   "execution_count": 37,
   "metadata": {
    "colab": {},
    "colab_type": "code",
    "id": "mBjp600PjKlj"
   },
   "outputs": [
    {
     "data": {
      "image/png": "[encoded data removed]",
      "text/plain": [
       "<Figure size 432x288 with 1 Axes>"
      ]
     },
     "metadata": {},
     "output_type": "display_data"
    },
    {
     "name": "stdout",
     "output_type": "stream",
     "text": [
      "No scaling error is: 0.002891794927350494 and lowest with scaling error is: 0.002866340332593146\n",
      "\n",
      "The error is improved by: 0.8880520735065511%\n",
      "\n",
      "The best scaling for 4 inputs is: 4.0-4.5-3.0-0.5\n",
      "\n"
     ]
    }
   ],
   "source": [
    "better_errors = scaling_nrmses[np.where(scaling_nrmses < no_scaling_error)[0]]\n",
    "\n",
    "fig, ax = plt.subplots()\n",
    "ax.plot(better_errors, 'o--')\n",
    "ax.set_title(\"Improved NRMSEs for various combinations of input scalings VS no input scaling NRMSE\\n\")\n",
    "ax.set_ylabel(\"NRMSE\")\n",
    "ax.axhline(no_scaling_error, linewidth=4, color='r')\n",
    "plt.show()\n",
    "percentage_improvement = 100*(no_scaling_error/np.min(scaling_nrmses) - 1)\n",
    "best_scaling = scaling_labels[np.argmin(scaling_nrmses)]\n",
    "\n",
    "print(f\"No scaling error is: {no_scaling_error} and lowest with scaling error is: {np.min(scaling_nrmses)}\\n\")\n",
    "print(f\"The error is improved by: {percentage_improvement}%\\n\")\n",
    "print(f\"The best scaling for 4 inputs is: {best_scaling}\\n\")"
   ]
  },
  {
   "cell_type": "markdown",
   "metadata": {
    "colab_type": "text",
    "id": "doCgneT9jPhD"
   },
   "source": [
    "As we can see the input scalings indeed improve the test error, aka performance compared to no scaling of inputs. However the improvement in error rate is just 0.32%, which is not a lot. The error itself is quite low, so improving farther is obviously hard."
   ]
  },
  {
   "cell_type": "markdown",
   "metadata": {
    "colab_type": "text",
    "id": "02UHXHnvt7aP"
   },
   "source": [
    "### Trying to detect extreme values for input scaling\n",
    "Values of the input scaling that cause the error to increase as the system acts in a non-linear regime (large scaling) or very basic linear regime (small scaling)."
   ]
  },
  {
   "cell_type": "code",
   "execution_count": 38,
   "metadata": {
    "colab": {},
    "colab_type": "code",
    "id": "x1Zwjayct6yL"
   },
   "outputs": [
    {
     "name": "stdout",
     "output_type": "stream",
     "text": [
      "(4, 4)\n",
      "[[800000000 800000000         2]\n",
      " [800000000 400000000         2]\n",
      " [400000000 800000000         2]]\n",
      "[[40000002 80000002 80000002]]\n"
     ]
    }
   ],
   "source": [
    "import copy\n",
    "# Generate scalings for each of four inputs\n",
    "scalings = []\n",
    "for i in range(4):\n",
    "    scalings.append(np.arange(2, 100000, step = 50000))\n",
    "\n",
    "scalings = []\n",
    "for i in range(4):\n",
    "    if i<2:\n",
    "        #scalings.append(np.arange(2, 100000000, step = 40000000))\n",
    "        #scalings.append(np.array([2] + [2**i for i in (1,4,26) ]))\n",
    "        scalings.append(np.array([400000000,800000000]))\n",
    "    else:    \n",
    "        scalings.append(np.arange(2,3, step=1))\n",
    "\n",
    "\n",
    "input_scalings = cartprod(*scalings)\n",
    "print(input_scalings.shape)\n",
    "input_scalings = input_scalings[::-1]\n",
    "print(input_scalings[:3,:3])\n",
    "\n",
    "input_scalings = np.array([[40000002, 80000002, 80000002, 2]])\n",
    "print(input_scalings[:3,:3])"
   ]
  },
  {
   "cell_type": "code",
   "execution_count": 39,
   "metadata": {
    "colab": {},
    "colab_type": "code",
    "id": "NUtcWW4xuHxn"
   },
   "outputs": [
    {
     "name": "stdout",
     "output_type": "stream",
     "text": [
      "Iteration: 0, label: 40000002-80000002-80000002-2, NRMSE: 0.003307190551772968\n"
     ]
    }
   ],
   "source": [
    "# For each combination of input scalings run training and testing on McDonald's stock data and record the results.\n",
    "input_scaling_nrmse = []\n",
    "input_scaling_labels = []\n",
    "for i in range(input_scalings.shape[0]):\n",
    "    esn = ESN(n_inputs = 4,\n",
    "          n_outputs = 1,\n",
    "          spectral_radius = 0.25,\n",
    "          sparsity = 0.95,\n",
    "          input_scaling = input_scalings[i])\n",
    "    \n",
    "    esn.fit(train_x, train_y)\n",
    "    predictions = esn.predict(test_x)\n",
    "    error = nrmse(test_y, predictions)\n",
    "    label = f\"{input_scalings[i][0]}-{input_scalings[i][1]}-{input_scalings[i][2]}-{input_scalings[i][3]}\"\n",
    "    print(f\"Iteration: {i}, label: {label}, NRMSE: {error}\")\n",
    "    input_scaling_nrmse.append(error)\n",
    "    input_scaling_labels.append(label)\n",
    "\n",
    "df = pd.DataFrame({'label': input_scaling_labels, 'nrmse': input_scaling_nrmse})\n",
    "df.to_csv(f'{project_folder}/input_scaling_results_extreme.csv',index=False)"
   ]
  },
  {
   "cell_type": "code",
   "execution_count": 40,
   "metadata": {
    "colab": {},
    "colab_type": "code",
    "id": "rbwKkkOPuWj4"
   },
   "outputs": [
    {
     "data": {
      "text/html": [
       "<div>\n",
       "<style scoped>\n",
       "    .dataframe tbody tr th:only-of-type {\n",
       "        vertical-align: middle;\n",
       "    }\n",
       "\n",
       "    .dataframe tbody tr th {\n",
       "        vertical-align: top;\n",
       "    }\n",
       "\n",
       "    .dataframe thead th {\n",
       "        text-align: right;\n",
       "    }\n",
       "</style>\n",
       "<table border=\"1\" class=\"dataframe\">\n",
       "  <thead>\n",
       "    <tr style=\"text-align: right;\">\n",
       "      <th></th>\n",
       "      <th>label</th>\n",
       "      <th>nrmse</th>\n",
       "    </tr>\n",
       "  </thead>\n",
       "  <tbody>\n",
       "    <tr>\n",
       "      <th>0</th>\n",
       "      <td>40000002-80000002-80000002-2</td>\n",
       "      <td>0.003307</td>\n",
       "    </tr>\n",
       "  </tbody>\n",
       "</table>\n",
       "</div>"
      ],
      "text/plain": [
       "                          label     nrmse\n",
       "0  40000002-80000002-80000002-2  0.003307"
      ]
     },
     "execution_count": 40,
     "metadata": {},
     "output_type": "execute_result"
    }
   ],
   "source": [
    "scalings_results = pd.read_csv(f'{project_folder}/input_scaling_results_extreme.csv')\n",
    "scalings_results.head()\n",
    "scalings_results.sort_values(by=['nrmse'], ascending=False)"
   ]
  },
  {
   "cell_type": "code",
   "execution_count": 41,
   "metadata": {
    "colab": {},
    "colab_type": "code",
    "id": "ctvJ2hT-uazr"
   },
   "outputs": [
    {
     "name": "stdout",
     "output_type": "stream",
     "text": [
      "No scaling NRMSE is: 0.0028945356047457736\n"
     ]
    }
   ],
   "source": [
    "# Let's train/test ESN without providing any input scaling so that we can compare with the rest.\n",
    "esn = ESN(n_inputs = 4,\n",
    "          n_outputs = 1,\n",
    "          spectral_radius = 0.25,\n",
    "          sparsity = 0.95)\n",
    "esn.fit(train_x, train_y)\n",
    "predictions = esn.predict(test_x)\n",
    "no_scaling_error = nrmse(test_y, predictions)\n",
    "print(f\"No scaling NRMSE is: {no_scaling_error}\")"
   ]
  },
  {
   "cell_type": "code",
   "execution_count": 42,
   "metadata": {
    "colab": {},
    "colab_type": "code",
    "id": "eKFhH3uxubYd"
   },
   "outputs": [
    {
     "data": {
      "image/png": "[encoded data removed]",
      "text/plain": [
       "<Figure size 432x288 with 1 Axes>"
      ]
     },
     "metadata": {},
     "output_type": "display_data"
    }
   ],
   "source": [
    "scaling_nrmses = scalings_results['nrmse'].values\n",
    "scaling_labels = scalings_results['label'].values\n",
    "\n",
    "fig, ax = plt.subplots()\n",
    "ax.plot(scaling_nrmses, 'o--')\n",
    "ax.axhline(no_scaling_error, linewidth=4, color='r')\n",
    "plt.show()"
   ]
  },
  {
   "cell_type": "code",
   "execution_count": null,
   "metadata": {
    "colab": {},
    "colab_type": "code",
    "id": "3zFgkg2Zue1g"
   },
   "outputs": [],
   "source": [
    "scalings_results = pd.read_csv(f'{project_folder}/input_scaling_results.csv')\n",
    "scalings_results.head()\n",
    "scalings_results.sort_values(by=['nrmse'], ascending=False)"
   ]
  },
  {
   "cell_type": "markdown",
   "metadata": {
    "colab_type": "text",
    "id": "hyYe8LamjR9E"
   },
   "source": [
    "## Task 2: Impact of Teacher Signal scaling and shifting on performance of ESN\n",
    "\n",
    "Since we saw what was the impact on performance from scaling of inputs, we can proceed and check the impact on scaling and shifting of teacher signal. First we need to generate 2 arrays and perform cartesian product to form all possible combinations of scaling and shifting teacher signal parameters."
   ]
  },
  {
   "cell_type": "code",
   "execution_count": 43,
   "metadata": {
    "colab": {},
    "colab_type": "code",
    "id": "wGZUEG8LjXY2"
   },
   "outputs": [
    {
     "data": {
      "text/plain": [
       "(4900, 2)"
      ]
     },
     "execution_count": 43,
     "metadata": {},
     "output_type": "execute_result"
    }
   ],
   "source": [
    "teach_scaling = np.round(np.arange(0.1, 5, step=0.1), 1)\n",
    "teach_shift = np.round(np.arange(-5, 5, step=0.1), 1)\n",
    "\n",
    "teacher_scalings = cartprod(teach_scaling, teach_shift)\n",
    "teacher_scalings.shape"
   ]
  },
  {
   "cell_type": "code",
   "execution_count": null,
   "metadata": {
    "colab": {},
    "colab_type": "code",
    "id": "bE7rZvDCjZlV"
   },
   "outputs": [],
   "source": [
    "# For each combination of teaching scalings run training and testing on McDonald's stock data and record the results.\n",
    "teacher_scaling_nrmse = []\n",
    "teacher_scaling_labels = []\n",
    "for i in range(teacher_scalings.shape[0]):\n",
    "    esn = ESN(n_inputs = 4,\n",
    "          n_outputs = 1,\n",
    "          spectral_radius = 0.25,\n",
    "          sparsity = 0.95,\n",
    "          teacher_scaling = teacher_scalings[i][0],\n",
    "          teacher_shift = teacher_scalings[i][1])\n",
    "    \n",
    "    esn.fit(train_x, train_y)\n",
    "    predictions = esn.predict(test_x)\n",
    "    error = nrmse(test_y, predictions)\n",
    "    label = f\"{teacher_scalings[i][0]}_{teacher_scalings[i][1]}\"\n",
    "    print(f\"Iteration: {i}, label: {label}, NRMSE: {error}\")\n",
    "    teacher_scaling_nrmse.append(error)\n",
    "    teacher_scaling_labels.append(label)\n",
    "    \n",
    "    if i%100 == 0:\n",
    "      df = pd.DataFrame({'label': teacher_scaling_labels, 'nrmse': teacher_scaling_nrmse})\n",
    "      df.to_csv(f'{project_folder}/teacher_scaling_results.csv',index=False)\n",
    "\n",
    "df = pd.DataFrame({'label': teacher_scaling_labels, 'nrmse': teacher_scaling_nrmse})\n",
    "df.to_csv(f'{project_folder}/teacher_scaling_results.csv',index=False)"
   ]
  },
  {
   "cell_type": "code",
   "execution_count": 44,
   "metadata": {
    "colab": {},
    "colab_type": "code",
    "id": "gRt9y3bMSdQL"
   },
   "outputs": [
    {
     "data": {
      "text/html": [
       "<div>\n",
       "<style scoped>\n",
       "    .dataframe tbody tr th:only-of-type {\n",
       "        vertical-align: middle;\n",
       "    }\n",
       "\n",
       "    .dataframe tbody tr th {\n",
       "        vertical-align: top;\n",
       "    }\n",
       "\n",
       "    .dataframe thead th {\n",
       "        text-align: right;\n",
       "    }\n",
       "</style>\n",
       "<table border=\"1\" class=\"dataframe\">\n",
       "  <thead>\n",
       "    <tr style=\"text-align: right;\">\n",
       "      <th></th>\n",
       "      <th>label</th>\n",
       "      <th>nrmse</th>\n",
       "    </tr>\n",
       "  </thead>\n",
       "  <tbody>\n",
       "    <tr>\n",
       "      <th>0</th>\n",
       "      <td>0.1_-5.0</td>\n",
       "      <td>0.002872</td>\n",
       "    </tr>\n",
       "    <tr>\n",
       "      <th>1</th>\n",
       "      <td>0.1_-4.9</td>\n",
       "      <td>0.002885</td>\n",
       "    </tr>\n",
       "    <tr>\n",
       "      <th>2</th>\n",
       "      <td>0.1_-4.8</td>\n",
       "      <td>0.002877</td>\n",
       "    </tr>\n",
       "    <tr>\n",
       "      <th>3</th>\n",
       "      <td>0.1_-4.7</td>\n",
       "      <td>0.002877</td>\n",
       "    </tr>\n",
       "    <tr>\n",
       "      <th>4</th>\n",
       "      <td>0.1_-4.6</td>\n",
       "      <td>0.002875</td>\n",
       "    </tr>\n",
       "  </tbody>\n",
       "</table>\n",
       "</div>"
      ],
      "text/plain": [
       "      label     nrmse\n",
       "0  0.1_-5.0  0.002872\n",
       "1  0.1_-4.9  0.002885\n",
       "2  0.1_-4.8  0.002877\n",
       "3  0.1_-4.7  0.002877\n",
       "4  0.1_-4.6  0.002875"
      ]
     },
     "execution_count": 44,
     "metadata": {},
     "output_type": "execute_result"
    }
   ],
   "source": [
    "teacher_scaling_results = pd.read_csv(f'{project_folder}/teacher_scaling_results.csv')\n",
    "teacher_scaling_results.head()"
   ]
  },
  {
   "cell_type": "markdown",
   "metadata": {
    "colab_type": "text",
    "id": "cUmQWyTsSlQD"
   },
   "source": [
    "After running training and testing for all combinations of teacher scaling and shifting, we can proceed to understand how they affect the overall performance in terms of testing error."
   ]
  },
  {
   "cell_type": "code",
   "execution_count": 46,
   "metadata": {
    "colab": {},
    "colab_type": "code",
    "id": "j7AgLyzySoN7"
   },
   "outputs": [
    {
     "data": {
      "image/png": "[encoded data removed]",
      "text/plain": [
       "<Figure size 432x288 with 1 Axes>"
      ]
     },
     "metadata": {},
     "output_type": "display_data"
    }
   ],
   "source": [
    "teacher_scaling_nrmses = teacher_scaling_results['nrmse'].values\n",
    "teacher_scaling_labels = teacher_scaling_results['label'].values\n",
    "\n",
    "fig, ax = plt.subplots()\n",
    "ax.set_title(\"NRMSEs for various teacher scalings and shiftings combinations VS no scaling error\")\n",
    "ax.set_ylabel(\"NRMSE\")\n",
    "ax.plot(teacher_scaling_nrmses, 'o--')\n",
    "ax.axhline(no_scaling_error, linewidth=4, color='r')\n",
    "plt.show()"
   ]
  },
  {
   "cell_type": "markdown",
   "metadata": {
    "colab_type": "text",
    "id": "c2E2LekUSrwq"
   },
   "source": [
    "As with input scalings we see that some values are below the no scaling error, so we need to again plot a graph where values are only less than error without scaling."
   ]
  },
  {
   "cell_type": "code",
   "execution_count": 48,
   "metadata": {
    "colab": {},
    "colab_type": "code",
    "id": "n0D5ey0gStH1"
   },
   "outputs": [
    {
     "data": {
      "image/png": "[encoded data removed]",
      "text/plain": [
       "<Figure size 432x288 with 1 Axes>"
      ]
     },
     "metadata": {},
     "output_type": "display_data"
    },
    {
     "name": "stdout",
     "output_type": "stream",
     "text": [
      "No scaling error is: 0.0028945356047457736 and lowest with scaling error is: 0.003307190551772968\n",
      "\n",
      "The error is improved by: 1.5213051947950085%\n",
      "\n",
      "The best scaling for teacher and shiftings are: 0.1_-4.0 respectively\n",
      "\n"
     ]
    }
   ],
   "source": [
    "teacher_better_errors = teacher_scaling_nrmses[np.where(teacher_scaling_nrmses < no_scaling_error)[0]]\n",
    "\n",
    "fig, ax = plt.subplots()\n",
    "ax.plot(teacher_better_errors, 'o--')\n",
    "ax.set_title(\"Improved NRMSEs for various teacher scalings and shiftings combinations VS no scaling error\")\n",
    "ax.set_ylabel(\"NRMSE\")\n",
    "ax.axhline(no_scaling_error, linewidth=4, color='r')\n",
    "plt.show()\n",
    "percentage_improvement = 100*(no_scaling_error/np.min(teacher_better_errors) - 1)\n",
    "best_scaling = teacher_scaling_labels[np.argmin(teacher_scaling_nrmses)]\n",
    "\n",
    "print(f\"No scaling error is: {no_scaling_error} and lowest with scaling error is: {np.min(scaling_nrmses)}\\n\")\n",
    "print(f\"The error is improved by: {percentage_improvement}%\\n\")\n",
    "print(f\"The best scaling for teacher and shiftings are: {best_scaling} respectively\\n\")"
   ]
  },
  {
   "cell_type": "markdown",
   "metadata": {
    "colab_type": "text",
    "id": "L6sdUrlYTioF"
   },
   "source": [
    "Again as with scaling of inputs, the error wasn't improved much. It is mainly due to the fact that the initial error without any scaling was already very small.\n",
    "\n",
    "## Task 3: Memory capacity of ESN Network"
   ]
  },
  {
   "cell_type": "markdown",
   "metadata": {
    "colab_type": "text",
    "id": "i3qqMhc_saTk"
   },
   "source": [
    "#### Quantification of the memory capacity\n",
    "We need to compute the following measure:\n",
    "$C = \\sum_{i=1,2,..} r^2(u(n-i),y_{i}(n))$\n",
    "\n",
    "where $r^2(u(n−i),y_{i}(n))$ is the squared correlation coefficient between the input signal delayed by i and a trained output signal $y_i(n)$ which was trained on the task to retrodict (memorize) $u(n−i)$ on the input signal $u(n)$ . "
   ]
  },
  {
   "cell_type": "code",
   "execution_count": null,
   "metadata": {
    "colab": {},
    "colab_type": "code",
    "id": "nEEpirY7TjLk"
   },
   "outputs": [],
   "source": [
    "from math import floor\n",
    "c = np.zeros(train_x.shape[1])\n",
    "capacities = np.zeros((len(range(1,floor(test_x.shape[0]/2))), train_x.shape[1]))\n",
    "\n",
    "for i in range(1,floor(test_x.shape[0]/2)):\n",
    "    esn = ESN(n_inputs = 1,\n",
    "              n_outputs = 1,\n",
    "              spectral_radius = 0.25,\n",
    "              sparsity = 0.95,\n",
    "              teacher_scaling = 0.1,\n",
    "              teacher_shift = -4.0\n",
    "             )\n",
    "    \n",
    "    train_y2 = np.zeros([i])\n",
    "    train_y2 = np.hstack((train_y2,train_x[:-i,0]))\n",
    "    \n",
    "    # For each input (out of 4) train the ESN network and calculate the memory capacity\n",
    "    # Expressed by above given formula\n",
    "    for j in range(train_x.shape[1]):\n",
    "      esn.fit(train_x[:,j], train_y2)\n",
    "      predictions = esn.predict(test_x[:-i,j])\n",
    "      ci = pearsonr(predictions[:,0],test_x[i:,j])\n",
    "      ci = ci[0]**2\n",
    "      \n",
    "      c[j] = c[j] + ci\n",
    "      capacities[i][j] = ci\n",
    "      print(f\"Delay: {i}-{j}. Capacity: {ci}\")\n",
    "    \n",
    "    if i%100 == 0:\n",
    "      print(\"Saving DF\")\n",
    "      df = pd.DataFrame(data=capacities, columns=['memory_cap_open','memory_cap_high','memory_cap_low','memory_cap_volume'])\n",
    "      df.to_csv(f\"{project_folder}/memory_capacities.csv\", index=False)\n",
    "\n",
    "df = pd.DataFrame(data=capacities, columns=['memory_cap_open','memory_cap_high','memory_cap_low','memory_cap_volume'])\n",
    "df.to_csv(f\"{project_folder}/memory_capacities.csv\", index=False)"
   ]
  },
  {
   "cell_type": "code",
   "execution_count": 52,
   "metadata": {
    "colab": {
     "base_uri": "https://localhost:8080/",
     "height": 35
    },
    "colab_type": "code",
    "id": "QF9KPcNjxr41",
    "outputId": "b6a37a6c-2019-4e08-8f0f-0e62b474a850"
   },
   "outputs": [],
   "source": [
    "df_capacities = pd.read_csv(f\"{project_folder}/memory_capacities.csv\")\n",
    "df_capacities = df_capacities[(df_capacities.T != 0).any()]\n",
    "df_capacities.shape\n",
    "c = [0 for _ in range(train_x.shape[1])]\n",
    "with open(f\"{project_folder}/total_capacities.txt\") as f:\n",
    "    c = f.readlines()[0]"
   ]
  },
  {
   "cell_type": "markdown",
   "metadata": {
    "colab_type": "text",
    "id": "2Iub0L4Fs3Hq"
   },
   "source": [
    "After having all memory capacities up to 1500 delays, we can plot how they are changing for each of 4 inputs."
   ]
  },
  {
   "cell_type": "code",
   "execution_count": 53,
   "metadata": {
    "colab": {
     "base_uri": "https://localhost:8080/",
     "height": 380
    },
    "colab_type": "code",
    "id": "SqFEGLcoxtwU",
    "outputId": "797eaad6-ef21-4ad6-eacd-d3880ceb3802"
   },
   "outputs": [
    {
     "name": "stdout",
     "output_type": "stream",
     "text": [
      "Total memory capacity for each input is: 0.5271293  0.02827466 0.52461713 0. \n",
      "\n"
     ]
    },
    {
     "data": {
      "image/png": "[encoded data removed]",
      "text/plain": [
       "<Figure size 432x288 with 4 Axes>"
      ]
     },
     "metadata": {},
     "output_type": "display_data"
    }
   ],
   "source": [
    "inputs = df_capacities.columns\n",
    "caps = df_capacities.values\n",
    "df_capacities.hist(bins=100)\n",
    "print(f\"Total memory capacity for each input is: {c}\")"
   ]
  },
  {
   "cell_type": "markdown",
   "metadata": {
    "colab_type": "text",
    "id": "oZqhDg9v5cHv"
   },
   "source": [
    "As we can see from above histrograms of memory capacities are mostly close to 0 in all inputs. However when it comes to memory capacities for each of 1500 states above 0, they are distributed equally same for 3 inputs. Except volume. The maximum memory capacity for volume seems to be slighty more than 0.1. Which can mean that volume should not be a good choice of input for LSTM algorithm."
   ]
  }
 ],
 "metadata": {
  "colab": {
   "collapsed_sections": [],
   "name": "Project-part2.ipynb",
   "provenance": [],
   "version": "0.3.2"
  },
  "kernelspec": {
   "display_name": "Python 3",
   "language": "python",
   "name": "python3"
  },
  "language_info": {
   "codemirror_mode": {
    "name": "ipython",
    "version": 3
   },
   "file_extension": ".py",
   "mimetype": "text/x-python",
   "name": "python",
   "nbconvert_exporter": "python",
   "pygments_lexer": "ipython3",
   "version": "3.6.5"
  }
 },
 "nbformat": 4,
 "nbformat_minor": 1
}
